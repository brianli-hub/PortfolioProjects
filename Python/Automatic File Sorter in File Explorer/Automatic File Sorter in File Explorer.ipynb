{
 "cells": [
  {
   "cell_type": "code",
   "execution_count": 6,
   "id": "450063cc",
   "metadata": {},
   "outputs": [],
   "source": [
    " import os, shutil"
   ]
  },
  {
   "cell_type": "code",
   "execution_count": 7,
   "id": "e7d550a0",
   "metadata": {},
   "outputs": [],
   "source": [
    "path = r\"G:/PortfolioProjects/Python/Automatic File Sorter in File Explorer/Files To Sort/\""
   ]
  },
  {
   "cell_type": "code",
   "execution_count": 8,
   "id": "19305b25",
   "metadata": {},
   "outputs": [],
   "source": [
    "file_name = os.listdir(path)"
   ]
  },
  {
   "cell_type": "code",
   "execution_count": 9,
   "id": "0fae7476",
   "metadata": {},
   "outputs": [],
   "source": [
    "folder_names = [\"Excel Files\", \"Image Files\", \"Text Files\"]\n",
    "\n",
    "for loop in range(0,3):\n",
    "    if not os.path.exists(path + folder_names[loop]):\n",
    "        print(path + folder_names[loop])\n",
    "        os.makedirs(path + folder_names[loop])\n",
    "\n",
    "for file in file_name:\n",
    "    if \".xlsx\" in file and not os.path.exists(path + \"Excel Files/\" + file):\n",
    "        shutil.move(path + file, path + \"Excel Files/\" + file)\n",
    "    elif \".jpg\" in file and not os.path.exists(path + \"Image Files/\" + file):\n",
    "        shutil.move(path + file, path + \"Image Files/\" + file)\n",
    "    elif \".png\" in file and not os.path.exists(path + \"Image Files/\" + file):\n",
    "        shutil.move(path + file, path + \"Image Files/\" + file)\n",
    "    elif \".txt\" in file and not os.path.exists(path + \"Text Files/\" + file):\n",
    "        shutil.move(path + file, path + \"Text Files/\" + file)"
   ]
  },
  {
   "cell_type": "code",
   "execution_count": 5,
   "id": "b5bdeabb",
   "metadata": {},
   "outputs": [],
   "source": []
  },
  {
   "cell_type": "code",
   "execution_count": null,
   "id": "2110a69c",
   "metadata": {},
   "outputs": [],
   "source": []
  }
 ],
 "metadata": {
  "kernelspec": {
   "display_name": "Python 3 (ipykernel)",
   "language": "python",
   "name": "python3"
  },
  "language_info": {
   "codemirror_mode": {
    "name": "ipython",
    "version": 3
   },
   "file_extension": ".py",
   "mimetype": "text/x-python",
   "name": "python",
   "nbconvert_exporter": "python",
   "pygments_lexer": "ipython3",
   "version": "3.11.4"
  }
 },
 "nbformat": 4,
 "nbformat_minor": 5
}
