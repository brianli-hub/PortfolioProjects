{
 "cells": [
  {
   "cell_type": "code",
   "execution_count": null,
   "id": "ce4f442a",
   "metadata": {},
   "outputs": [
    {
     "name": "stdout",
     "output_type": "stream",
     "text": [
      "Enter your name: Brian\n"
     ]
    }
   ],
   "source": [
    "name = input(\"Enter your name: \")\n",
    "weight = int(input(\"Enter your weight in pounds: \"))\n",
    "height = int(input(\"Enter your height in inches: \"))\n",
    "bmi = (weight * 703) / (height * height)\n",
    "print(bmi)\n",
    "\n",
    "if bmi > 0:\n",
    "    if(bmi <18.5):\n",
    "        print(name + \", you are underweight.\")\n",
    "    elif(bmi <=24.9):\n",
    "        print(name + \", you are normal weight.\")\n",
    "    elif(bmi <=29.9):\n",
    "        print(name + \", you are overweight.\")\n",
    "    elif(bmi <=34.9):\n",
    "        print(name + \", you are obese.\")\n",
    "    elif(bmi <=39.9):\n",
    "        print(name + \", you are severely obese.\")\n",
    "    else:\n",
    "        print(name + \", you are morbidly obese.\")\n",
    "else:\n",
    "    print(\"Enter valid inputs!\")"
   ]
  },
  {
   "cell_type": "code",
   "execution_count": null,
   "id": "dc9ab1ac",
   "metadata": {},
   "outputs": [],
   "source": [
    "if bmi > 0:\n",
    "    if(bmi <18.5):\n",
    "        print(name + \", you are underweight.\")\n",
    "    elif(bmi <=24.9):\n",
    "        print(name + \", you are normal weight.\")\n",
    "    elif(bmi <=29.9):\n",
    "        print(name + \", you are overweight.\")\n",
    "    elif(bmi <=34.9):\n",
    "        print(name + \", you are obese.\")\n",
    "    elif(bmi <=39.9):\n",
    "        print(name + \", you are severely obese.\")\n",
    "    else:\n",
    "        print(name + \", you are morbidly obese.\")\n",
    "else:\n",
    "    print(\"Enter valid inputs!\")"
   ]
  },
  {
   "cell_type": "code",
   "execution_count": null,
   "id": "d45cdb6d",
   "metadata": {},
   "outputs": [],
   "source": []
  },
  {
   "cell_type": "code",
   "execution_count": null,
   "id": "9403f14b",
   "metadata": {},
   "outputs": [],
   "source": []
  },
  {
   "cell_type": "code",
   "execution_count": null,
   "id": "7c7816a8",
   "metadata": {},
   "outputs": [],
   "source": []
  },
  {
   "cell_type": "code",
   "execution_count": null,
   "id": "947897af",
   "metadata": {},
   "outputs": [],
   "source": []
  }
 ],
 "metadata": {
  "kernelspec": {
   "display_name": "Python 3 (ipykernel)",
   "language": "python",
   "name": "python3"
  },
  "language_info": {
   "codemirror_mode": {
    "name": "ipython",
    "version": 3
   },
   "file_extension": ".py",
   "mimetype": "text/x-python",
   "name": "python",
   "nbconvert_exporter": "python",
   "pygments_lexer": "ipython3",
   "version": "3.11.4"
  }
 },
 "nbformat": 4,
 "nbformat_minor": 5
}
